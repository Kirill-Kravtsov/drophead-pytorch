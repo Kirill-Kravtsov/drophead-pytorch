{
 "cells": [
  {
   "cell_type": "code",
   "execution_count": 1,
   "metadata": {},
   "outputs": [],
   "source": [
    "import torch.nn as nn\n",
    "from transformers import XLMRobertaModel\n",
    "from drophead import set_drophead"
   ]
  },
  {
   "cell_type": "code",
   "execution_count": 2,
   "metadata": {},
   "outputs": [],
   "source": [
    "class XLMRobertaClf():\n",
    "    \n",
    "    def __init__(self):\n",
    "        self.any_backbone_name = XLMRobertaModel.from_pretrained(\"xlm-roberta-base\")\n",
    "        self.clf = nn.Linear(self.any_backbone_name.pooler.dense.out_features, 1)\n",
    "        \n",
    "    def forward(ids):\n",
    "        x = self.any_backbone_name(ids)\n",
    "        x = self.clf(x)\n",
    "        return x\n",
    "    \n",
    "model = XLMRobertaClf()\n",
    "set_drophead(model)"
   ]
  },
  {
   "cell_type": "markdown",
   "metadata": {},
   "source": [
    "### Or make p_drophead model's parameter"
   ]
  },
  {
   "cell_type": "code",
   "execution_count": 3,
   "metadata": {},
   "outputs": [],
   "source": [
    "class XLMRobertaClf():\n",
    "    \n",
    "    def __init__(self, p_drophead=0.1):\n",
    "        self.any_backbone_name = XLMRobertaModel.from_pretrained(\"xlm-roberta-base\")\n",
    "        set_drophead(self.any_backbone_name)\n",
    "        self.clf = nn.Linear(self.any_backbone_name.pooler.dense.out_features, 1)\n",
    "        \n",
    "    def forward(ids):\n",
    "        x = self.any_backbone_name(ids)\n",
    "        x = self.clf(x)\n",
    "        return x\n",
    "    \n",
    "model = XLMRobertaClf(p_drophead=0.2)"
   ]
  }
 ],
 "metadata": {
  "kernelspec": {
   "display_name": "Python 3",
   "language": "python",
   "name": "python3"
  },
  "language_info": {
   "codemirror_mode": {
    "name": "ipython",
    "version": 3
   },
   "file_extension": ".py",
   "mimetype": "text/x-python",
   "name": "python",
   "nbconvert_exporter": "python",
   "pygments_lexer": "ipython3",
   "version": "3.7.7"
  }
 },
 "nbformat": 4,
 "nbformat_minor": 4
}
